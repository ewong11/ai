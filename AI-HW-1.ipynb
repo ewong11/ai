{
 "cells": [
  {
   "cell_type": "markdown",
   "metadata": {},
   "source": [
    "## Let's do some timing work ##\n",
    "First, create the function _RandListSet(n)_ that returns two things: a list of **n** unique integers in random order, and a set of the same integers.  You might look at the method: _random.shuffle()_ although there are other ways to do this.\n",
    "\n"
   ]
  },
  {
   "cell_type": "code",
   "execution_count": 2,
   "metadata": {},
   "outputs": [],
   "source": [
    "def RandListSet(n):\n",
    "    # your perfect code...\n",
    "    pass"
   ]
  },
  {
   "cell_type": "markdown",
   "metadata": {},
   "source": [
    "...by the way, the _pass_ statement above is a null-statement in Python, and is useful when a statement is required but you don't want it to do anything.\n",
    "\n",
    "Now create the function _TimeIt(n)_ that executes _RandListSet(n)_ and returns 3 things: the list, the set, and the amount of time, in seconds, it took to do that.  Look at the _time_ library's _time()_ method."
   ]
  },
  {
   "cell_type": "code",
   "execution_count": 3,
   "metadata": {},
   "outputs": [],
   "source": [
    "def TimeIt(n):\n",
    "    # your timely code...\n",
    "    pass"
   ]
  },
  {
   "cell_type": "markdown",
   "metadata": {},
   "source": [
    "All right... We'd like to create a list and set of **n** unique integers each (as above), that takes a certain amount of time to produce.  In other words, suppose we chose a time of 0.5 seconds: now how large should **n** be such that it takes about 0.5 seconds for _RandListSet(n)_ to run?  This, of course, is dependent upon many things: principally, the speed of your computer, but also the version of Python you're using, the particular algorithm inside _RandListSet()_, your shoe size, etc. Therefore, you can't just try _TimeIt(n)_ over and over, by hand, until you're in the ballpark of the chosen execution time.\n",
    "\n",
    "OK, so now let's try our hands (actually, _your_ hands) at a small but non-trivial algorithm...\n",
    "\n",
    "Create the function _FindN(TargetTime,Accuracy)_ that will **algorithmically** find the right value of **n** so that it takes approximately _TargetTime_ seconds for _RandListSet(n)_ to run.  The _Accuracy_ parameter deals with the approximation -- it indicates what fraction of _TargetTime_ you are allowed to be different (that was badly explained).  Here's an example: _FindN(2.0,0.1)_ means finding **n** so that _RandListSet(n)_ takes about 2 seconds plus-or-minus 10% -- in other words, between 1.8 and 2.2 seconds.\n",
    "\n",
    "Assume that _TargetTime_ will be somewhere in the range: 0.1 to 1.5 seconds, and _Accuracy_ in the range 0.05 and 0.2.  Try to make sure that _FindN()_ doesn't run for more than, say, 10 seconds."
   ]
  },
  {
   "cell_type": "code",
   "execution_count": 4,
   "metadata": {},
   "outputs": [],
   "source": [
    "def FindN(TargetTime,Accuracy):\n",
    "    # your precise code...\n",
    "    pass"
   ]
  },
  {
   "cell_type": "markdown",
   "metadata": {},
   "source": [
    "While the primary point of this exercise was creating the _FindN()_ function, we can use the list and set produced to compare the speed with which Python can look up elements inside lists and inside sets.  Suppose we wanted to know whether a particular integer is inside a list. How long would Python take to answer that Boolean question?  What if we asked the same question of a set?  We'd expect Python to answer faster for a set than for a list.  Is that true?\n",
    "\n",
    "Use _FindN(1.0,0.1)_ to choose a list/set size (**n**).  Create a list and a set of size **n** using _RandListSet(n)_.  Create the function _Lookup(lst,st,m)_ that will be given that list and set that will report on 4 different times.\n",
    "\n",
    "1. do the following **m** times: choose a random integer that you know is in the list, and ask the list if it's there (you don't care where in the list it is, just whether it's in the list).\n",
    "2. do the following **m** times: choose a random integer that you know is in the set, and ask the set if it's there.\n",
    "3. do the following **m** times: choose an integer that you know is **not** in the list, and ask the list if it's there.\n",
    "4. do the following **m** times: choose an integer that you know is **not** in the set, and ask the set if it's there.\n",
    "\n",
    "Calculate the time to do each of the 4 processes, and report those 4 numbers. We want to see how much faster the set's lookup is.  You may have to choose a large m so that the times you get back for the set operations are larger than 0.\n",
    "\n"
   ]
  },
  {
   "cell_type": "code",
   "execution_count": 5,
   "metadata": {},
   "outputs": [],
   "source": [
    "def Lookup(lst,st,m):\n",
    "    # your final code...\n",
    "    pass"
   ]
  }
 ],
 "metadata": {
  "kernelspec": {
   "display_name": "Python 3",
   "language": "python",
   "name": "python3"
  },
  "language_info": {
   "codemirror_mode": {
    "name": "ipython",
    "version": 3
   },
   "file_extension": ".py",
   "mimetype": "text/x-python",
   "name": "python",
   "nbconvert_exporter": "python",
   "pygments_lexer": "ipython3",
   "version": "3.6.4"
  }
 },
 "nbformat": 4,
 "nbformat_minor": 2
}
