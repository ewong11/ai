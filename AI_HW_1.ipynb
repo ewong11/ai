{
  "nbformat": 4,
  "nbformat_minor": 0,
  "metadata": {
    "colab": {
      "name": "AI-HW-1.ipynb",
      "version": "0.3.2",
      "provenance": [],
      "collapsed_sections": []
    },
    "kernelspec": {
      "display_name": "Python 3",
      "language": "python",
      "name": "python3"
    }
  },
  "cells": [
    {
      "metadata": {
        "id": "Uhub9oh-M_K5",
        "colab_type": "text"
      },
      "cell_type": "markdown",
      "source": [
        "## Let's do some timing work ##\n",
        "First, create the function _RandListSet(n)_ that returns two things: a list of **n** unique integers in random order, and a set of the same integers.  You might look at the method: _random.shuffle()_ although there are other ways to do this.\n",
        "\n"
      ]
    },
    {
      "metadata": {
        "id": "lbo9IknGM_K7",
        "colab_type": "code",
        "colab": {
          "base_uri": "https://localhost:8080/",
          "height": 35
        },
        "outputId": "3f4250b3-656b-48f6-8a16-4d4d806de81a"
      },
      "cell_type": "code",
      "source": [
        "import random\n",
        "def RandListSet(n):\n",
        "    l = [k for k in range(n)]\n",
        "    s = set(l)\n",
        "    random.shuffle(l)\n",
        "    return l, s\n",
        "print(RandListSet(5))"
      ],
      "execution_count": 2,
      "outputs": [
        {
          "output_type": "stream",
          "text": [
            "([2, 0, 1, 4, 3], {0, 1, 2, 3, 4})\n"
          ],
          "name": "stdout"
        }
      ]
    },
    {
      "metadata": {
        "id": "JRqRhjwDM_LA",
        "colab_type": "text"
      },
      "cell_type": "markdown",
      "source": [
        "...by the way, the _pass_ statement above is a null-statement in Python, and is useful when a statement is required but you don't want it to do anything.\n",
        "\n",
        "Now create the function _TimeIt(n)_ that executes _RandListSet(n)_ and returns 3 things: the list, the set, and the amount of time, in seconds, it took to do that.  Look at the _time_ library's _time()_ method."
      ]
    },
    {
      "metadata": {
        "id": "-aIlS_s4M_LA",
        "colab_type": "code",
        "colab": {
          "base_uri": "https://localhost:8080/",
          "height": 197
        },
        "outputId": "90a4122c-a9ce-4deb-92a6-471a21df7e72"
      },
      "cell_type": "code",
      "source": [
        "import time\n",
        "def TimeIt(n):\n",
        "  t1 = time.time()\n",
        "  a = RandListSet(n)\n",
        "  t2 = time.time()\n",
        "  return a, t2 - t1\n",
        "\n",
        "print(TimeIt(790390))\n",
        "  "
      ],
      "execution_count": 3,
      "outputs": [
        {
          "output_type": "stream",
          "text": [
            "IOPub data rate exceeded.\n",
            "The notebook server will temporarily stop sending output\n",
            "to the client in order to avoid crashing it.\n",
            "To change this limit, set the config variable\n",
            "`--NotebookApp.iopub_data_rate_limit`.\n",
            "\n",
            "Current values:\n",
            "NotebookApp.iopub_data_rate_limit=1000000.0 (bytes/sec)\n",
            "NotebookApp.rate_limit_window=3.0 (secs)\n",
            "\n"
          ],
          "name": "stderr"
        }
      ]
    },
    {
      "metadata": {
        "id": "c4oj49fgM_LE",
        "colab_type": "text"
      },
      "cell_type": "markdown",
      "source": [
        "All right... We'd like to create a list and set of **n** unique integers each (as above), that takes a certain amount of time to produce.  In other words, suppose we chose a time of 0.5 seconds: now how large should **n** be such that it takes about 0.5 seconds for _RandListSet(n)_ to run?  This, of course, is dependent upon many things: principally, the speed of your computer, but also the version of Python you're using, the particular algorithm inside _RandListSet()_, your shoe size, etc. Therefore, you can't just try _TimeIt(n)_ over and over, by hand, until you're in the ballpark of the chosen execution time.\n",
        "\n",
        "OK, so now let's try our hands (actually, _your_ hands) at a small but non-trivial algorithm...\n",
        "\n",
        "Create the function _FindN(TargetTime,Accuracy)_ that will **algorithmically** find the right value of **n** so that it takes approximately _TargetTime_ seconds for _RandListSet(n)_ to run.  The _Accuracy_ parameter deals with the approximation -- it indicates what fraction of _TargetTime_ you are allowed to be different (that was badly explained).  Here's an example: _FindN(2.0,0.1)_ means finding **n** so that _RandListSet(n)_ takes about 2 seconds plus-or-minus 10% -- in other words, between 1.8 and 2.2 seconds.\n",
        "\n",
        "Assume that _TargetTime_ will be somewhere in the range: 0.1 to 1.5 seconds, and _Accuracy_ in the range 0.05 and 0.2.  Try to make sure that _FindN()_ doesn't run for more than, say, 10 seconds."
      ]
    },
    {
      "metadata": {
        "id": "n9lXjB67M_LE",
        "colab_type": "code",
        "colab": {
          "base_uri": "https://localhost:8080/",
          "height": 35
        },
        "outputId": "acf6db76-9de8-4656-e7f5-55fbeb6f2a66"
      },
      "cell_type": "code",
      "source": [
        "import time\n",
        "\n",
        "def TimeIt(n):\n",
        "  t1 = time.time()\n",
        "  a = RandListSet(n)\n",
        "  t2 = time.time()\n",
        "  return t2 - t1\n",
        "\n",
        "def FindN(TargetTime,Accuracy):\n",
        "  base = 100\n",
        "  a = TimeIt(base)\n",
        "  while ((a > TargetTime+(TargetTime*Accuracy)) or a < TargetTime-(TargetTime*Accuracy)):\n",
        "    base = base*2\n",
        "    a = TimeIt(base)\n",
        "  return base\n",
        "\n",
        "FindN(1.0,.2)"
      ],
      "execution_count": 4,
      "outputs": [
        {
          "output_type": "execute_result",
          "data": {
            "text/plain": [
              "819200"
            ]
          },
          "metadata": {
            "tags": []
          },
          "execution_count": 4
        }
      ]
    },
    {
      "metadata": {
        "id": "TaoMkuPyM_LI",
        "colab_type": "text"
      },
      "cell_type": "markdown",
      "source": [
        "While the primary point of this exercise was creating the _FindN()_ function, we can use the list and set produced to compare the speed with which Python can look up elements inside lists and inside sets.  Suppose we wanted to know whether a particular integer is inside a list. How long would Python take to answer that Boolean question?  What if we asked the same question of a set?  We'd expect Python to answer faster for a set than for a list.  Is that true?\n",
        "\n",
        "Use _FindN(1.0,0.1)_ to choose a list/set size (**n**).  Create a list and a set of size **n** using _RandListSet(n)_.  Create the function _Lookup(lst,st,m)_ that will be given that list and set that will report on 4 different times.\n",
        "\n",
        "1. do the following **m** times: choose a random integer that you know is in the list, and ask the list if it's there (you don't care where in the list it is, just whether it's in the list).\n",
        "2. do the following **m** times: choose a random integer that you know is in the set, and ask the set if it's there.\n",
        "3. do the following **m** times: choose an integer that you know is **not** in the list, and ask the list if it's there.\n",
        "4. do the following **m** times: choose an integer that you know is **not** in the set, and ask the set if it's there.\n",
        "\n",
        "Calculate the time to do each of the 4 processes, and report those 4 numbers. We want to see how much faster the set's lookup is.  You may have to choose a large m so that the times you get back for the set operations are larger than 0.\n",
        "\n"
      ]
    },
    {
      "metadata": {
        "id": "gBpk4VZVM_LJ",
        "colab_type": "code",
        "colab": {
          "base_uri": "https://localhost:8080/",
          "height": 89
        },
        "outputId": "6dfce0df-346c-424b-d595-b5eef9744037"
      },
      "cell_type": "code",
      "source": [
        "def Lookup(lst,st,m):\n",
        "  t1 = time.time()\n",
        "  for i in range(m):\n",
        "    random.random() in lst\n",
        "  t2 = time.time()\n",
        "  print(\"in list\", t2-t1)\n",
        "  \n",
        "  t1 = time.time()\n",
        "  for i in range(m):\n",
        "    random.random() in st\n",
        "  t2 = time.time()\n",
        "  print(\"in set\", t2-t1)\n",
        "  \n",
        "  t1 = time.time()\n",
        "  for i in range(m):\n",
        "    -1 in lst\n",
        "  t2 = time.time()\n",
        "  print(\"not in list\", t2-t1)\n",
        "  \n",
        "  t1 = time.time()\n",
        "  for i in range(m):\n",
        "    -1 in st\n",
        "  t2 = time.time()\n",
        "  print(\"not in set\", t2-t1)\n",
        "\n",
        "n = FindN(1.0,.1)\n",
        "L = RandListSet(n)\n",
        "\n",
        "Lookup(L[0], L[1], 100)\n",
        "\n",
        "\n",
        "   \n",
        "  \n",
        "  \n",
        "    "
      ],
      "execution_count": 10,
      "outputs": [
        {
          "output_type": "stream",
          "text": [
            "in list 17.97139024734497\n",
            "in set 7.987022399902344e-05\n",
            "not in list 6.537984848022461\n",
            "not in set 9.5367431640625e-06\n"
          ],
          "name": "stdout"
        }
      ]
    }
  ]
}