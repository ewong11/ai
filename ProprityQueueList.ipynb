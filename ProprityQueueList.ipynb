{
  "nbformat": 4,
  "nbformat_minor": 0,
  "metadata": {
    "colab": {
      "name": "ProprityQueueList.ipynb",
      "version": "0.3.2",
      "provenance": [],
      "collapsed_sections": []
    },
    "kernelspec": {
      "name": "python3",
      "display_name": "Python 3"
    }
  },
  "cells": [
    {
      "metadata": {
        "id": "lgvOp7p3tntt",
        "colab_type": "code",
        "colab": {}
      },
      "cell_type": "code",
      "source": [
        "class Pqueue():\n",
        "  def OrdinaryComparison(a,b):\n",
        "    if a < b: return -1\n",
        "    if a == b: return 0\n",
        "    return 1\n",
        "  def __init__(self, comparator = OrdinaryComparison):\n",
        "    self.cmpfunc = comparator\n",
        "    self.q = []\n",
        "    self.n = 1\n",
        "    self.q.append(None)\n",
        "    self.size = 1\n",
        "  def pushI(self, data):\n",
        "    self.q.append(data)\n",
        "  def push(self,data):\n",
        "    self.q.append(data)\n",
        "    i = len(self.q)-1\n",
        "    #print(int(i/2), \"i=\", i, len(self.q))\n",
        "    while i >= 2:\n",
        "      if self.cmpfunc(data, self.q[int(i/2)]) == -1:\n",
        "        temp = self.q[int(i/2)]\n",
        "        self.q[int(i/2)] = self.q[i]\n",
        "        self.q[i] = temp\n",
        "        i = int((i)/2)\n",
        "        i = i/2      \n",
        "      else:\n",
        "        i = i/2    \n",
        "    #self.size+= 1\n",
        "   \n",
        "  def pop(self):\n",
        "    l = len(self.q)\n",
        "    a = 1\n",
        "    if len(self.q) == 2:\n",
        "      return self.q[1]\n",
        "    else:\n",
        "      retVal = self.q[1]\n",
        "    self.q[1] = self.q[len(self.q)-1]\n",
        "    self.q.pop()\n",
        "    #print(\"after pop\", len(self.q))\n",
        "    if len(self.q) == 1:\n",
        "      return self.q\n",
        "    else:\n",
        "      while 2*a+1 < len(self.q)-1:\n",
        "        if self.cmpfunc(self.q[2*a], self.q[2*a+1]) == -1:\n",
        "          #check left side--new root----left child\n",
        "          if self.cmpfunc(self.q[a], self.q[2*a]) == 1:\n",
        "            temp = self.q[2*a]\n",
        "            self.q[2*a] = self.q[a]\n",
        "            self.q[a] = temp\n",
        "            a = 2*a\n",
        "        else:\n",
        "          temp = self.q[2*a+1]\n",
        "          self.q[2*a+1] = self.q[a]\n",
        "          self.q[a] = temp\n",
        "          a = 2*a+1\n",
        "    #print(\"after pop\", len(self.q))\n",
        "    self.size -= 1\n",
        "    return retVal\n",
        "\n",
        "  \n",
        "  def peek(self):\n",
        "    return self.q[1]\n",
        "  \n",
        "  def tolist(self):\n",
        "    retlist = []\n",
        "    for i in range(len(self.q)):\n",
        "      if self.q[i] != None:\n",
        "        retlist.append(self.q[i])\n",
        "        self.q[i] = None\n",
        "    return retlist\n",
        "  \n",
        "  def toString(self):\n",
        "    print(self.q)\n",
        "\n",
        "          \n",
        "          "
      ],
      "execution_count": 0,
      "outputs": []
    },
    {
      "metadata": {
        "id": "GEPhIzPg9pmh",
        "colab_type": "code",
        "colab": {
          "base_uri": "https://localhost:8080/",
          "height": 53
        },
        "outputId": "f6d86780-5ee0-4c81-be44-36bcbddf9b05"
      },
      "cell_type": "code",
      "source": [
        "def my_cmp(a,b):\n",
        "   if len(a) < len(b): return -1\n",
        "   if len(a) == len(b): return 0\n",
        "   return 1\n",
        "  \n",
        "Fred = Pqueue()\n",
        "Fred.push(3)\n",
        "Fred.push(2)\n",
        "Fred.push(1)\n",
        "Fred.push(5)\n",
        "Fred.push(17)\n",
        "Fred.pop()\n",
        "print(Fred.peek())\n",
        "#Fred.toString()\n",
        "print(Fred.tolist())\n",
        "\n",
        "\n"
      ],
      "execution_count": 356,
      "outputs": [
        {
          "output_type": "stream",
          "text": [
            "2\n",
            "[2, 1, 0, 5, 3, 17]\n"
          ],
          "name": "stdout"
        }
      ]
    },
    {
      "metadata": {
        "id": "8NxtutkcDTb7",
        "colab_type": "code",
        "colab": {}
      },
      "cell_type": "code",
      "source": [
        ""
      ],
      "execution_count": 0,
      "outputs": []
    }
  ]
}